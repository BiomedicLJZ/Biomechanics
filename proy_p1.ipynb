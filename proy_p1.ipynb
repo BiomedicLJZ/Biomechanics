{
 "cells": [
  {
   "cell_type": "code",
   "execution_count": 7,
   "metadata": {
    "collapsed": true,
    "ExecuteTime": {
     "end_time": "2023-05-16T19:58:41.019154500Z",
     "start_time": "2023-05-16T19:58:40.984589Z"
    }
   },
   "outputs": [],
   "source": [
    "import kineticstoolkit.lab as ktk\n",
    "import numpy as np\n",
    "import matplotlib.pyplot as plt\n",
    "import plotnine as p9\n",
    "import pandas as pd\n"
   ]
  },
  {
   "cell_type": "code",
   "execution_count": 8,
   "outputs": [],
   "source": [
    "%matplotlib qt"
   ],
   "metadata": {
    "collapsed": false,
    "ExecuteTime": {
     "end_time": "2023-05-16T19:58:41.020162800Z",
     "start_time": "2023-05-16T19:58:41.004600500Z"
    }
   }
  },
  {
   "cell_type": "code",
   "execution_count": 9,
   "outputs": [],
   "source": [
    "# Load the data\n",
    "data= ktk.read_c3d(r\"D:\\Documentos\\CUCEI\\Data\\Data\\c3d files\\A multimodal dataset of human gait at different walking speeds\\2015003\\2015003_C2_04.c3d\",convert_point_unit=True)\n"
   ],
   "metadata": {
    "collapsed": false,
    "ExecuteTime": {
     "end_time": "2023-05-16T19:58:41.127297900Z",
     "start_time": "2023-05-16T19:58:41.025153700Z"
    }
   }
  },
  {
   "cell_type": "code",
   "execution_count": 10,
   "outputs": [],
   "source": [
    "# Get the markers\n",
    "markers=data['Points']\n",
    "# Extract the info from the markers\n",
    "points=markers.data\n",
    "# Get the names of the markers\n",
    "names=list(points.keys())"
   ],
   "metadata": {
    "collapsed": false,
    "ExecuteTime": {
     "end_time": "2023-05-16T19:58:41.145846400Z",
     "start_time": "2023-05-16T19:58:41.130297900Z"
    }
   }
  },
  {
   "cell_type": "code",
   "execution_count": 11,
   "outputs": [
    {
     "data": {
      "text/plain": "TimeSeries with attributes:\n         time: <array of shape (257,)>\n         data: <dict with 52 entries>\n    time_info: {'Unit': 's'}\n    data_info: <dict with 52 entries>\n       events: <list of 7 items>"
     },
     "execution_count": 11,
     "metadata": {},
     "output_type": "execute_result"
    }
   ],
   "source": [
    "markers"
   ],
   "metadata": {
    "collapsed": false,
    "ExecuteTime": {
     "end_time": "2023-05-16T19:58:52.948576500Z",
     "start_time": "2023-05-16T19:58:52.880391600Z"
    }
   }
  },
  {
   "cell_type": "code",
   "execution_count": 12,
   "outputs": [],
   "source": [
    "fig = plt.figure()\n",
    "ax = fig.add_subplot(projection='3d')\n",
    "for point in points:\n",
    "    ax.scatter(points[point][0,0],points[point][0,1],points[point][0,2])\n",
    "    ax.text(points[point][0,0],points[point][0,1],points[point][0,2],point)\n",
    "    ax.set_aspect('equal',adjustable='box')\n",
    "    ax.set_axis_off()\n"
   ],
   "metadata": {
    "collapsed": false,
    "ExecuteTime": {
     "end_time": "2023-05-16T19:58:53.787569400Z",
     "start_time": "2023-05-16T19:58:52.913389400Z"
    }
   }
  },
  {
   "cell_type": "code",
   "execution_count": 13,
   "outputs": [],
   "source": [
    "import matplotlib.animation as animation\n",
    "# Create an animation\n",
    "fig = plt.figure()\n",
    "ax = fig.add_subplot(projection='3d')\n",
    "ax.set_xlim3d(-1,1)\n",
    "ax.set_ylim3d(-1,1)\n",
    "ax.set_zlim3d(-1,1)\n",
    "ax.set_aspect('equal',adjustable='box')\n",
    "def animate(i):\n",
    "    ax.clear()\n",
    "    #ax.set_xlim3d(-1,1)\n",
    "    #ax.set_ylim3d(-1,1)\n",
    "    #ax.set_zlim3d(-1,1)\n",
    "    ax.set_aspect('equal',adjustable='box')\n",
    "    for point in points:\n",
    "        ax.scatter(points[point][i,0],points[point][i,1],points[point][i,2])\n",
    "        #ax.text(points[point][i,0],points[point][i,1],points[point][i,2],point)\n",
    "ani = animation.FuncAnimation(fig, animate, frames=points[names[0]].shape[0], interval=.005, repeat=True)"
   ],
   "metadata": {
    "collapsed": false,
    "ExecuteTime": {
     "end_time": "2023-05-08T17:03:49.205971500Z",
     "start_time": "2023-05-08T17:03:49.093235400Z"
    }
   }
  }
 ],
 "metadata": {
  "kernelspec": {
   "display_name": "Python 3",
   "language": "python",
   "name": "python3"
  },
  "language_info": {
   "codemirror_mode": {
    "name": "ipython",
    "version": 2
   },
   "file_extension": ".py",
   "mimetype": "text/x-python",
   "name": "python",
   "nbconvert_exporter": "python",
   "pygments_lexer": "ipython2",
   "version": "2.7.6"
  }
 },
 "nbformat": 4,
 "nbformat_minor": 0
}
